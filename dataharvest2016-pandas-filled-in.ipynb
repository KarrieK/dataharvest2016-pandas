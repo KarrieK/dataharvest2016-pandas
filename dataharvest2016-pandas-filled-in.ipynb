{
 "cells": [
  {
   "cell_type": "markdown",
   "metadata": {},
   "source": [
    "# Pandas Workshop at DataHarvest 2016\n",
    "\n",
    "This is how you import pandas. It's customary to import it as \"pd\"."
   ]
  },
  {
   "cell_type": "code",
   "execution_count": 107,
   "metadata": {
    "collapsed": true
   },
   "outputs": [],
   "source": [
    "import pandas as pd"
   ]
  },
  {
   "cell_type": "markdown",
   "metadata": {},
   "source": [
    "This is how you can load a CSV file. There are also other ways to load in data, such as `read_excel` or `read_json`"
   ]
  },
  {
   "cell_type": "code",
   "execution_count": 108,
   "metadata": {
    "collapsed": false
   },
   "outputs": [],
   "source": [
    "df = pd.read_csv('gb_201415.csv')"
   ]
  },
  {
   "cell_type": "markdown",
   "metadata": {},
   "source": [
    "`df` stands for DataFrame and is basically a table with rows and columns.\n",
    "\n",
    "`df.head()` shows the first 5 rows, you can also show more, e.g. `df.head(20)`"
   ]
  },
  {
   "cell_type": "code",
   "execution_count": 109,
   "metadata": {
    "collapsed": false
   },
   "outputs": [
    {
     "data": {
      "text/html": [
       "<div>\n",
       "<table border=\"1\" class=\"dataframe\">\n",
       "  <thead>\n",
       "    <tr style=\"text-align: right;\">\n",
       "      <th></th>\n",
       "      <th>year</th>\n",
       "      <th>recipient_id</th>\n",
       "      <th>recipient_name</th>\n",
       "      <th>recipient_postcode</th>\n",
       "      <th>recipient_location</th>\n",
       "      <th>agency</th>\n",
       "      <th>scheme</th>\n",
       "      <th>amount</th>\n",
       "      <th>country</th>\n",
       "      <th>currency</th>\n",
       "    </tr>\n",
       "  </thead>\n",
       "  <tbody>\n",
       "    <tr>\n",
       "      <th>0</th>\n",
       "      <td>2015</td>\n",
       "      <td>GB-SY23-WELSH ASSEMBLY GOVERNMENT</td>\n",
       "      <td>WELSH ASSEMBLY GOVERNMENT</td>\n",
       "      <td>SY23</td>\n",
       "      <td>ABERYSTWYTH</td>\n",
       "      <td>WG</td>\n",
       "      <td>Technical Assistance</td>\n",
       "      <td>7,636,181.83</td>\n",
       "      <td>GB</td>\n",
       "      <td>GBP</td>\n",
       "    </tr>\n",
       "    <tr>\n",
       "      <th>1</th>\n",
       "      <td>2015</td>\n",
       "      <td>GB-WR5-Natural England</td>\n",
       "      <td>Natural England</td>\n",
       "      <td>WR5</td>\n",
       "      <td>WORCESTER</td>\n",
       "      <td>RPA</td>\n",
       "      <td>Technical Assistance</td>\n",
       "      <td>7,373,572.0</td>\n",
       "      <td>GB</td>\n",
       "      <td>GBP</td>\n",
       "    </tr>\n",
       "    <tr>\n",
       "      <th>2</th>\n",
       "      <td>2014</td>\n",
       "      <td>GB-SY23-WELSH ASSEMBLY GOVERNMENT</td>\n",
       "      <td>WELSH ASSEMBLY GOVERNMENT</td>\n",
       "      <td>SY23</td>\n",
       "      <td>ABERYSTWYTH</td>\n",
       "      <td>WG</td>\n",
       "      <td>Technical Assistance</td>\n",
       "      <td>6,128,222.74</td>\n",
       "      <td>GB</td>\n",
       "      <td>GBP</td>\n",
       "    </tr>\n",
       "    <tr>\n",
       "      <th>3</th>\n",
       "      <td>2015</td>\n",
       "      <td>GB-CB7-G'S GROWERS LTD</td>\n",
       "      <td>G'S GROWERS LTD</td>\n",
       "      <td>CB7</td>\n",
       "      <td>ELY</td>\n",
       "      <td>RPA</td>\n",
       "      <td>Aid in fruit and vegetables sector</td>\n",
       "      <td>5,807,429.64</td>\n",
       "      <td>GB</td>\n",
       "      <td>GBP</td>\n",
       "    </tr>\n",
       "    <tr>\n",
       "      <th>4</th>\n",
       "      <td>2014</td>\n",
       "      <td>GB-PL30-National Trust</td>\n",
       "      <td>National Trust</td>\n",
       "      <td>PL30</td>\n",
       "      <td>Bodmin</td>\n",
       "      <td>RPA</td>\n",
       "      <td>Agri-environment payments</td>\n",
       "      <td>4,646,028.86</td>\n",
       "      <td>GB</td>\n",
       "      <td>GBP</td>\n",
       "    </tr>\n",
       "  </tbody>\n",
       "</table>\n",
       "</div>"
      ],
      "text/plain": [
       "   year                       recipient_id             recipient_name  \\\n",
       "0  2015  GB-SY23-WELSH ASSEMBLY GOVERNMENT  WELSH ASSEMBLY GOVERNMENT   \n",
       "1  2015             GB-WR5-Natural England            Natural England   \n",
       "2  2014  GB-SY23-WELSH ASSEMBLY GOVERNMENT  WELSH ASSEMBLY GOVERNMENT   \n",
       "3  2015             GB-CB7-G'S GROWERS LTD            G'S GROWERS LTD   \n",
       "4  2014             GB-PL30-National Trust             National Trust   \n",
       "\n",
       "  recipient_postcode recipient_location agency  \\\n",
       "0               SY23        ABERYSTWYTH     WG   \n",
       "1                WR5          WORCESTER    RPA   \n",
       "2               SY23        ABERYSTWYTH     WG   \n",
       "3                CB7                ELY    RPA   \n",
       "4               PL30             Bodmin    RPA   \n",
       "\n",
       "                               scheme        amount country currency  \n",
       "0                Technical Assistance  7,636,181.83      GB      GBP  \n",
       "1                Technical Assistance   7,373,572.0      GB      GBP  \n",
       "2                Technical Assistance  6,128,222.74      GB      GBP  \n",
       "3  Aid in fruit and vegetables sector  5,807,429.64      GB      GBP  \n",
       "4           Agri-environment payments  4,646,028.86      GB      GBP  "
      ]
     },
     "execution_count": 109,
     "metadata": {},
     "output_type": "execute_result"
    }
   ],
   "source": [
    "df.head()"
   ]
  },
  {
   "cell_type": "markdown",
   "metadata": {},
   "source": [
    "Let's look at the data types of the columns."
   ]
  },
  {
   "cell_type": "code",
   "execution_count": 110,
   "metadata": {
    "collapsed": false
   },
   "outputs": [
    {
     "data": {
      "text/plain": [
       "year                   int64\n",
       "recipient_id          object\n",
       "recipient_name        object\n",
       "recipient_postcode    object\n",
       "recipient_location    object\n",
       "agency                object\n",
       "scheme                object\n",
       "amount                object\n",
       "country               object\n",
       "currency              object\n",
       "dtype: object"
      ]
     },
     "execution_count": 110,
     "metadata": {},
     "output_type": "execute_result"
    }
   ],
   "source": [
    "df.dtypes"
   ]
  },
  {
   "cell_type": "markdown",
   "metadata": {},
   "source": [
    "Looks like the amount is not detected correctly due to the thousand separators. Let's clean it!"
   ]
  },
  {
   "cell_type": "markdown",
   "metadata": {},
   "source": [
    "## Cleaning"
   ]
  },
  {
   "cell_type": "code",
   "execution_count": 111,
   "metadata": {
    "collapsed": false
   },
   "outputs": [
    {
     "data": {
      "text/html": [
       "<div>\n",
       "<table border=\"1\" class=\"dataframe\">\n",
       "  <thead>\n",
       "    <tr style=\"text-align: right;\">\n",
       "      <th></th>\n",
       "      <th>year</th>\n",
       "      <th>recipient_id</th>\n",
       "      <th>recipient_name</th>\n",
       "      <th>recipient_postcode</th>\n",
       "      <th>recipient_location</th>\n",
       "      <th>agency</th>\n",
       "      <th>scheme</th>\n",
       "      <th>amount</th>\n",
       "      <th>country</th>\n",
       "      <th>currency</th>\n",
       "      <th>amount_clean</th>\n",
       "    </tr>\n",
       "  </thead>\n",
       "  <tbody>\n",
       "    <tr>\n",
       "      <th>0</th>\n",
       "      <td>2015</td>\n",
       "      <td>GB-SY23-WELSH ASSEMBLY GOVERNMENT</td>\n",
       "      <td>WELSH ASSEMBLY GOVERNMENT</td>\n",
       "      <td>SY23</td>\n",
       "      <td>ABERYSTWYTH</td>\n",
       "      <td>WG</td>\n",
       "      <td>Technical Assistance</td>\n",
       "      <td>7,636,181.83</td>\n",
       "      <td>GB</td>\n",
       "      <td>GBP</td>\n",
       "      <td>7636181.83</td>\n",
       "    </tr>\n",
       "    <tr>\n",
       "      <th>1</th>\n",
       "      <td>2015</td>\n",
       "      <td>GB-WR5-Natural England</td>\n",
       "      <td>Natural England</td>\n",
       "      <td>WR5</td>\n",
       "      <td>WORCESTER</td>\n",
       "      <td>RPA</td>\n",
       "      <td>Technical Assistance</td>\n",
       "      <td>7,373,572.0</td>\n",
       "      <td>GB</td>\n",
       "      <td>GBP</td>\n",
       "      <td>7373572.0</td>\n",
       "    </tr>\n",
       "    <tr>\n",
       "      <th>2</th>\n",
       "      <td>2014</td>\n",
       "      <td>GB-SY23-WELSH ASSEMBLY GOVERNMENT</td>\n",
       "      <td>WELSH ASSEMBLY GOVERNMENT</td>\n",
       "      <td>SY23</td>\n",
       "      <td>ABERYSTWYTH</td>\n",
       "      <td>WG</td>\n",
       "      <td>Technical Assistance</td>\n",
       "      <td>6,128,222.74</td>\n",
       "      <td>GB</td>\n",
       "      <td>GBP</td>\n",
       "      <td>6128222.74</td>\n",
       "    </tr>\n",
       "    <tr>\n",
       "      <th>3</th>\n",
       "      <td>2015</td>\n",
       "      <td>GB-CB7-G'S GROWERS LTD</td>\n",
       "      <td>G'S GROWERS LTD</td>\n",
       "      <td>CB7</td>\n",
       "      <td>ELY</td>\n",
       "      <td>RPA</td>\n",
       "      <td>Aid in fruit and vegetables sector</td>\n",
       "      <td>5,807,429.64</td>\n",
       "      <td>GB</td>\n",
       "      <td>GBP</td>\n",
       "      <td>5807429.64</td>\n",
       "    </tr>\n",
       "    <tr>\n",
       "      <th>4</th>\n",
       "      <td>2014</td>\n",
       "      <td>GB-PL30-National Trust</td>\n",
       "      <td>National Trust</td>\n",
       "      <td>PL30</td>\n",
       "      <td>Bodmin</td>\n",
       "      <td>RPA</td>\n",
       "      <td>Agri-environment payments</td>\n",
       "      <td>4,646,028.86</td>\n",
       "      <td>GB</td>\n",
       "      <td>GBP</td>\n",
       "      <td>4646028.86</td>\n",
       "    </tr>\n",
       "  </tbody>\n",
       "</table>\n",
       "</div>"
      ],
      "text/plain": [
       "   year                       recipient_id             recipient_name  \\\n",
       "0  2015  GB-SY23-WELSH ASSEMBLY GOVERNMENT  WELSH ASSEMBLY GOVERNMENT   \n",
       "1  2015             GB-WR5-Natural England            Natural England   \n",
       "2  2014  GB-SY23-WELSH ASSEMBLY GOVERNMENT  WELSH ASSEMBLY GOVERNMENT   \n",
       "3  2015             GB-CB7-G'S GROWERS LTD            G'S GROWERS LTD   \n",
       "4  2014             GB-PL30-National Trust             National Trust   \n",
       "\n",
       "  recipient_postcode recipient_location agency  \\\n",
       "0               SY23        ABERYSTWYTH     WG   \n",
       "1                WR5          WORCESTER    RPA   \n",
       "2               SY23        ABERYSTWYTH     WG   \n",
       "3                CB7                ELY    RPA   \n",
       "4               PL30             Bodmin    RPA   \n",
       "\n",
       "                               scheme        amount country currency  \\\n",
       "0                Technical Assistance  7,636,181.83      GB      GBP   \n",
       "1                Technical Assistance   7,373,572.0      GB      GBP   \n",
       "2                Technical Assistance  6,128,222.74      GB      GBP   \n",
       "3  Aid in fruit and vegetables sector  5,807,429.64      GB      GBP   \n",
       "4           Agri-environment payments  4,646,028.86      GB      GBP   \n",
       "\n",
       "  amount_clean  \n",
       "0   7636181.83  \n",
       "1    7373572.0  \n",
       "2   6128222.74  \n",
       "3   5807429.64  \n",
       "4   4646028.86  "
      ]
     },
     "execution_count": 111,
     "metadata": {},
     "output_type": "execute_result"
    }
   ],
   "source": [
    "df2 = df.copy()\n",
    "df2['amount_clean'] = df2['amount'].str.replace(',', '')\n",
    "df2.head()"
   ]
  },
  {
   "cell_type": "markdown",
   "metadata": {},
   "source": [
    ".. and convert it to a number"
   ]
  },
  {
   "cell_type": "code",
   "execution_count": 112,
   "metadata": {
    "collapsed": false
   },
   "outputs": [
    {
     "data": {
      "text/plain": [
       "year                    int64\n",
       "recipient_id           object\n",
       "recipient_name         object\n",
       "recipient_postcode     object\n",
       "recipient_location     object\n",
       "agency                 object\n",
       "scheme                 object\n",
       "amount                 object\n",
       "country                object\n",
       "currency               object\n",
       "amount_clean          float64\n",
       "dtype: object"
      ]
     },
     "execution_count": 112,
     "metadata": {},
     "output_type": "execute_result"
    }
   ],
   "source": [
    "df2['amount_clean'] = pd.to_numeric(df2['amount_clean'])\n",
    "df2.dtypes"
   ]
  },
  {
   "cell_type": "markdown",
   "metadata": {},
   "source": [
    "we can now lose the original column. If you want to get rid of multiple columns, you can use a list, such as `['amount', 'somethingelse']`. The `1` stands for `axis`. `axis 1` is the columns (header), `axis 0` is the rows (index)"
   ]
  },
  {
   "cell_type": "code",
   "execution_count": 113,
   "metadata": {
    "collapsed": false
   },
   "outputs": [
    {
     "data": {
      "text/html": [
       "<div>\n",
       "<table border=\"1\" class=\"dataframe\">\n",
       "  <thead>\n",
       "    <tr style=\"text-align: right;\">\n",
       "      <th></th>\n",
       "      <th>year</th>\n",
       "      <th>recipient_id</th>\n",
       "      <th>recipient_name</th>\n",
       "      <th>recipient_postcode</th>\n",
       "      <th>recipient_location</th>\n",
       "      <th>agency</th>\n",
       "      <th>scheme</th>\n",
       "      <th>country</th>\n",
       "      <th>currency</th>\n",
       "      <th>amount_clean</th>\n",
       "    </tr>\n",
       "  </thead>\n",
       "  <tbody>\n",
       "    <tr>\n",
       "      <th>0</th>\n",
       "      <td>2015</td>\n",
       "      <td>GB-SY23-WELSH ASSEMBLY GOVERNMENT</td>\n",
       "      <td>WELSH ASSEMBLY GOVERNMENT</td>\n",
       "      <td>SY23</td>\n",
       "      <td>ABERYSTWYTH</td>\n",
       "      <td>WG</td>\n",
       "      <td>Technical Assistance</td>\n",
       "      <td>GB</td>\n",
       "      <td>GBP</td>\n",
       "      <td>7636181.83</td>\n",
       "    </tr>\n",
       "    <tr>\n",
       "      <th>1</th>\n",
       "      <td>2015</td>\n",
       "      <td>GB-WR5-Natural England</td>\n",
       "      <td>Natural England</td>\n",
       "      <td>WR5</td>\n",
       "      <td>WORCESTER</td>\n",
       "      <td>RPA</td>\n",
       "      <td>Technical Assistance</td>\n",
       "      <td>GB</td>\n",
       "      <td>GBP</td>\n",
       "      <td>7373572.00</td>\n",
       "    </tr>\n",
       "    <tr>\n",
       "      <th>2</th>\n",
       "      <td>2014</td>\n",
       "      <td>GB-SY23-WELSH ASSEMBLY GOVERNMENT</td>\n",
       "      <td>WELSH ASSEMBLY GOVERNMENT</td>\n",
       "      <td>SY23</td>\n",
       "      <td>ABERYSTWYTH</td>\n",
       "      <td>WG</td>\n",
       "      <td>Technical Assistance</td>\n",
       "      <td>GB</td>\n",
       "      <td>GBP</td>\n",
       "      <td>6128222.74</td>\n",
       "    </tr>\n",
       "    <tr>\n",
       "      <th>3</th>\n",
       "      <td>2015</td>\n",
       "      <td>GB-CB7-G'S GROWERS LTD</td>\n",
       "      <td>G'S GROWERS LTD</td>\n",
       "      <td>CB7</td>\n",
       "      <td>ELY</td>\n",
       "      <td>RPA</td>\n",
       "      <td>Aid in fruit and vegetables sector</td>\n",
       "      <td>GB</td>\n",
       "      <td>GBP</td>\n",
       "      <td>5807429.64</td>\n",
       "    </tr>\n",
       "    <tr>\n",
       "      <th>4</th>\n",
       "      <td>2014</td>\n",
       "      <td>GB-PL30-National Trust</td>\n",
       "      <td>National Trust</td>\n",
       "      <td>PL30</td>\n",
       "      <td>Bodmin</td>\n",
       "      <td>RPA</td>\n",
       "      <td>Agri-environment payments</td>\n",
       "      <td>GB</td>\n",
       "      <td>GBP</td>\n",
       "      <td>4646028.86</td>\n",
       "    </tr>\n",
       "  </tbody>\n",
       "</table>\n",
       "</div>"
      ],
      "text/plain": [
       "   year                       recipient_id             recipient_name  \\\n",
       "0  2015  GB-SY23-WELSH ASSEMBLY GOVERNMENT  WELSH ASSEMBLY GOVERNMENT   \n",
       "1  2015             GB-WR5-Natural England            Natural England   \n",
       "2  2014  GB-SY23-WELSH ASSEMBLY GOVERNMENT  WELSH ASSEMBLY GOVERNMENT   \n",
       "3  2015             GB-CB7-G'S GROWERS LTD            G'S GROWERS LTD   \n",
       "4  2014             GB-PL30-National Trust             National Trust   \n",
       "\n",
       "  recipient_postcode recipient_location agency  \\\n",
       "0               SY23        ABERYSTWYTH     WG   \n",
       "1                WR5          WORCESTER    RPA   \n",
       "2               SY23        ABERYSTWYTH     WG   \n",
       "3                CB7                ELY    RPA   \n",
       "4               PL30             Bodmin    RPA   \n",
       "\n",
       "                               scheme country currency  amount_clean  \n",
       "0                Technical Assistance      GB      GBP    7636181.83  \n",
       "1                Technical Assistance      GB      GBP    7373572.00  \n",
       "2                Technical Assistance      GB      GBP    6128222.74  \n",
       "3  Aid in fruit and vegetables sector      GB      GBP    5807429.64  \n",
       "4           Agri-environment payments      GB      GBP    4646028.86  "
      ]
     },
     "execution_count": 113,
     "metadata": {},
     "output_type": "execute_result"
    }
   ],
   "source": [
    "df2 = df2.drop('amount', 1)\n",
    "df2.head()"
   ]
  },
  {
   "cell_type": "markdown",
   "metadata": {},
   "source": [
    "we can also rename columns. Let's name the clean amount just an `amount` now that we dropped the dirty one"
   ]
  },
  {
   "cell_type": "code",
   "execution_count": 114,
   "metadata": {
    "collapsed": false
   },
   "outputs": [
    {
     "data": {
      "text/html": [
       "<div>\n",
       "<table border=\"1\" class=\"dataframe\">\n",
       "  <thead>\n",
       "    <tr style=\"text-align: right;\">\n",
       "      <th></th>\n",
       "      <th>year</th>\n",
       "      <th>recipient_id</th>\n",
       "      <th>recipient_name</th>\n",
       "      <th>recipient_postcode</th>\n",
       "      <th>recipient_location</th>\n",
       "      <th>agency</th>\n",
       "      <th>scheme</th>\n",
       "      <th>country</th>\n",
       "      <th>currency</th>\n",
       "      <th>amount</th>\n",
       "    </tr>\n",
       "  </thead>\n",
       "  <tbody>\n",
       "    <tr>\n",
       "      <th>0</th>\n",
       "      <td>2015</td>\n",
       "      <td>GB-SY23-WELSH ASSEMBLY GOVERNMENT</td>\n",
       "      <td>WELSH ASSEMBLY GOVERNMENT</td>\n",
       "      <td>SY23</td>\n",
       "      <td>ABERYSTWYTH</td>\n",
       "      <td>WG</td>\n",
       "      <td>Technical Assistance</td>\n",
       "      <td>GB</td>\n",
       "      <td>GBP</td>\n",
       "      <td>7636181.83</td>\n",
       "    </tr>\n",
       "    <tr>\n",
       "      <th>1</th>\n",
       "      <td>2015</td>\n",
       "      <td>GB-WR5-Natural England</td>\n",
       "      <td>Natural England</td>\n",
       "      <td>WR5</td>\n",
       "      <td>WORCESTER</td>\n",
       "      <td>RPA</td>\n",
       "      <td>Technical Assistance</td>\n",
       "      <td>GB</td>\n",
       "      <td>GBP</td>\n",
       "      <td>7373572.00</td>\n",
       "    </tr>\n",
       "    <tr>\n",
       "      <th>2</th>\n",
       "      <td>2014</td>\n",
       "      <td>GB-SY23-WELSH ASSEMBLY GOVERNMENT</td>\n",
       "      <td>WELSH ASSEMBLY GOVERNMENT</td>\n",
       "      <td>SY23</td>\n",
       "      <td>ABERYSTWYTH</td>\n",
       "      <td>WG</td>\n",
       "      <td>Technical Assistance</td>\n",
       "      <td>GB</td>\n",
       "      <td>GBP</td>\n",
       "      <td>6128222.74</td>\n",
       "    </tr>\n",
       "    <tr>\n",
       "      <th>3</th>\n",
       "      <td>2015</td>\n",
       "      <td>GB-CB7-G'S GROWERS LTD</td>\n",
       "      <td>G'S GROWERS LTD</td>\n",
       "      <td>CB7</td>\n",
       "      <td>ELY</td>\n",
       "      <td>RPA</td>\n",
       "      <td>Aid in fruit and vegetables sector</td>\n",
       "      <td>GB</td>\n",
       "      <td>GBP</td>\n",
       "      <td>5807429.64</td>\n",
       "    </tr>\n",
       "    <tr>\n",
       "      <th>4</th>\n",
       "      <td>2014</td>\n",
       "      <td>GB-PL30-National Trust</td>\n",
       "      <td>National Trust</td>\n",
       "      <td>PL30</td>\n",
       "      <td>Bodmin</td>\n",
       "      <td>RPA</td>\n",
       "      <td>Agri-environment payments</td>\n",
       "      <td>GB</td>\n",
       "      <td>GBP</td>\n",
       "      <td>4646028.86</td>\n",
       "    </tr>\n",
       "  </tbody>\n",
       "</table>\n",
       "</div>"
      ],
      "text/plain": [
       "   year                       recipient_id             recipient_name  \\\n",
       "0  2015  GB-SY23-WELSH ASSEMBLY GOVERNMENT  WELSH ASSEMBLY GOVERNMENT   \n",
       "1  2015             GB-WR5-Natural England            Natural England   \n",
       "2  2014  GB-SY23-WELSH ASSEMBLY GOVERNMENT  WELSH ASSEMBLY GOVERNMENT   \n",
       "3  2015             GB-CB7-G'S GROWERS LTD            G'S GROWERS LTD   \n",
       "4  2014             GB-PL30-National Trust             National Trust   \n",
       "\n",
       "  recipient_postcode recipient_location agency  \\\n",
       "0               SY23        ABERYSTWYTH     WG   \n",
       "1                WR5          WORCESTER    RPA   \n",
       "2               SY23        ABERYSTWYTH     WG   \n",
       "3                CB7                ELY    RPA   \n",
       "4               PL30             Bodmin    RPA   \n",
       "\n",
       "                               scheme country currency      amount  \n",
       "0                Technical Assistance      GB      GBP  7636181.83  \n",
       "1                Technical Assistance      GB      GBP  7373572.00  \n",
       "2                Technical Assistance      GB      GBP  6128222.74  \n",
       "3  Aid in fruit and vegetables sector      GB      GBP  5807429.64  \n",
       "4           Agri-environment payments      GB      GBP  4646028.86  "
      ]
     },
     "execution_count": 114,
     "metadata": {},
     "output_type": "execute_result"
    }
   ],
   "source": [
    "df2 = df2.rename(columns={'amount_clean': 'amount'})\n",
    "df2.head()"
   ]
  },
  {
   "cell_type": "markdown",
   "metadata": {},
   "source": [
    "Wondering if you can do this easier? Yes you can! Just in one step by combining the operations like this:"
   ]
  },
  {
   "cell_type": "code",
   "execution_count": 115,
   "metadata": {
    "collapsed": false
   },
   "outputs": [
    {
     "data": {
      "text/html": [
       "<div>\n",
       "<table border=\"1\" class=\"dataframe\">\n",
       "  <thead>\n",
       "    <tr style=\"text-align: right;\">\n",
       "      <th></th>\n",
       "      <th>year</th>\n",
       "      <th>recipient_id</th>\n",
       "      <th>recipient_name</th>\n",
       "      <th>recipient_postcode</th>\n",
       "      <th>recipient_location</th>\n",
       "      <th>agency</th>\n",
       "      <th>scheme</th>\n",
       "      <th>amount</th>\n",
       "      <th>country</th>\n",
       "      <th>currency</th>\n",
       "    </tr>\n",
       "  </thead>\n",
       "  <tbody>\n",
       "    <tr>\n",
       "      <th>0</th>\n",
       "      <td>2015</td>\n",
       "      <td>GB-SY23-WELSH ASSEMBLY GOVERNMENT</td>\n",
       "      <td>WELSH ASSEMBLY GOVERNMENT</td>\n",
       "      <td>SY23</td>\n",
       "      <td>ABERYSTWYTH</td>\n",
       "      <td>WG</td>\n",
       "      <td>Technical Assistance</td>\n",
       "      <td>7636181.83</td>\n",
       "      <td>GB</td>\n",
       "      <td>GBP</td>\n",
       "    </tr>\n",
       "    <tr>\n",
       "      <th>1</th>\n",
       "      <td>2015</td>\n",
       "      <td>GB-WR5-Natural England</td>\n",
       "      <td>Natural England</td>\n",
       "      <td>WR5</td>\n",
       "      <td>WORCESTER</td>\n",
       "      <td>RPA</td>\n",
       "      <td>Technical Assistance</td>\n",
       "      <td>7373572.00</td>\n",
       "      <td>GB</td>\n",
       "      <td>GBP</td>\n",
       "    </tr>\n",
       "    <tr>\n",
       "      <th>2</th>\n",
       "      <td>2014</td>\n",
       "      <td>GB-SY23-WELSH ASSEMBLY GOVERNMENT</td>\n",
       "      <td>WELSH ASSEMBLY GOVERNMENT</td>\n",
       "      <td>SY23</td>\n",
       "      <td>ABERYSTWYTH</td>\n",
       "      <td>WG</td>\n",
       "      <td>Technical Assistance</td>\n",
       "      <td>6128222.74</td>\n",
       "      <td>GB</td>\n",
       "      <td>GBP</td>\n",
       "    </tr>\n",
       "    <tr>\n",
       "      <th>3</th>\n",
       "      <td>2015</td>\n",
       "      <td>GB-CB7-G'S GROWERS LTD</td>\n",
       "      <td>G'S GROWERS LTD</td>\n",
       "      <td>CB7</td>\n",
       "      <td>ELY</td>\n",
       "      <td>RPA</td>\n",
       "      <td>Aid in fruit and vegetables sector</td>\n",
       "      <td>5807429.64</td>\n",
       "      <td>GB</td>\n",
       "      <td>GBP</td>\n",
       "    </tr>\n",
       "    <tr>\n",
       "      <th>4</th>\n",
       "      <td>2014</td>\n",
       "      <td>GB-PL30-National Trust</td>\n",
       "      <td>National Trust</td>\n",
       "      <td>PL30</td>\n",
       "      <td>Bodmin</td>\n",
       "      <td>RPA</td>\n",
       "      <td>Agri-environment payments</td>\n",
       "      <td>4646028.86</td>\n",
       "      <td>GB</td>\n",
       "      <td>GBP</td>\n",
       "    </tr>\n",
       "  </tbody>\n",
       "</table>\n",
       "</div>"
      ],
      "text/plain": [
       "   year                       recipient_id             recipient_name  \\\n",
       "0  2015  GB-SY23-WELSH ASSEMBLY GOVERNMENT  WELSH ASSEMBLY GOVERNMENT   \n",
       "1  2015             GB-WR5-Natural England            Natural England   \n",
       "2  2014  GB-SY23-WELSH ASSEMBLY GOVERNMENT  WELSH ASSEMBLY GOVERNMENT   \n",
       "3  2015             GB-CB7-G'S GROWERS LTD            G'S GROWERS LTD   \n",
       "4  2014             GB-PL30-National Trust             National Trust   \n",
       "\n",
       "  recipient_postcode recipient_location agency  \\\n",
       "0               SY23        ABERYSTWYTH     WG   \n",
       "1                WR5          WORCESTER    RPA   \n",
       "2               SY23        ABERYSTWYTH     WG   \n",
       "3                CB7                ELY    RPA   \n",
       "4               PL30             Bodmin    RPA   \n",
       "\n",
       "                               scheme      amount country currency  \n",
       "0                Technical Assistance  7636181.83      GB      GBP  \n",
       "1                Technical Assistance  7373572.00      GB      GBP  \n",
       "2                Technical Assistance  6128222.74      GB      GBP  \n",
       "3  Aid in fruit and vegetables sector  5807429.64      GB      GBP  \n",
       "4           Agri-environment payments  4646028.86      GB      GBP  "
      ]
     },
     "execution_count": 115,
     "metadata": {},
     "output_type": "execute_result"
    }
   ],
   "source": [
    "df['amount'] = pd.to_numeric(df['amount'].str.replace(',', ''))\n",
    "df.head()"
   ]
  },
  {
   "cell_type": "markdown",
   "metadata": {},
   "source": [
    "## Analysis"
   ]
  },
  {
   "cell_type": "code",
   "execution_count": 116,
   "metadata": {
    "collapsed": false
   },
   "outputs": [
    {
     "data": {
      "text/html": [
       "<div>\n",
       "<table border=\"1\" class=\"dataframe\">\n",
       "  <thead>\n",
       "    <tr style=\"text-align: right;\">\n",
       "      <th></th>\n",
       "      <th>year</th>\n",
       "      <th>recipient_id</th>\n",
       "      <th>recipient_name</th>\n",
       "      <th>recipient_postcode</th>\n",
       "      <th>recipient_location</th>\n",
       "      <th>agency</th>\n",
       "      <th>scheme</th>\n",
       "      <th>amount</th>\n",
       "      <th>country</th>\n",
       "      <th>currency</th>\n",
       "    </tr>\n",
       "  </thead>\n",
       "  <tbody>\n",
       "    <tr>\n",
       "      <th>count</th>\n",
       "      <td>1000.000000</td>\n",
       "      <td>1000</td>\n",
       "      <td>1000</td>\n",
       "      <td>1000</td>\n",
       "      <td>1000</td>\n",
       "      <td>1000</td>\n",
       "      <td>1000</td>\n",
       "      <td>1.000000e+03</td>\n",
       "      <td>1000</td>\n",
       "      <td>1000</td>\n",
       "    </tr>\n",
       "    <tr>\n",
       "      <th>unique</th>\n",
       "      <td>NaN</td>\n",
       "      <td>649</td>\n",
       "      <td>634</td>\n",
       "      <td>433</td>\n",
       "      <td>433</td>\n",
       "      <td>5</td>\n",
       "      <td>31</td>\n",
       "      <td>NaN</td>\n",
       "      <td>1</td>\n",
       "      <td>1</td>\n",
       "    </tr>\n",
       "    <tr>\n",
       "      <th>top</th>\n",
       "      <td>NaN</td>\n",
       "      <td>GB-LL15-CADWYN CLWYD CYFYNGEDIG LTD</td>\n",
       "      <td>National Trust</td>\n",
       "      <td>SY23</td>\n",
       "      <td>LINCOLN</td>\n",
       "      <td>RPA</td>\n",
       "      <td>Single area payment scheme</td>\n",
       "      <td>NaN</td>\n",
       "      <td>GB</td>\n",
       "      <td>GBP</td>\n",
       "    </tr>\n",
       "    <tr>\n",
       "      <th>freq</th>\n",
       "      <td>NaN</td>\n",
       "      <td>5</td>\n",
       "      <td>8</td>\n",
       "      <td>12</td>\n",
       "      <td>18</td>\n",
       "      <td>671</td>\n",
       "      <td>578</td>\n",
       "      <td>NaN</td>\n",
       "      <td>1000</td>\n",
       "      <td>1000</td>\n",
       "    </tr>\n",
       "    <tr>\n",
       "      <th>mean</th>\n",
       "      <td>2014.422000</td>\n",
       "      <td>NaN</td>\n",
       "      <td>NaN</td>\n",
       "      <td>NaN</td>\n",
       "      <td>NaN</td>\n",
       "      <td>NaN</td>\n",
       "      <td>NaN</td>\n",
       "      <td>5.087952e+05</td>\n",
       "      <td>NaN</td>\n",
       "      <td>NaN</td>\n",
       "    </tr>\n",
       "    <tr>\n",
       "      <th>std</th>\n",
       "      <td>0.494126</td>\n",
       "      <td>NaN</td>\n",
       "      <td>NaN</td>\n",
       "      <td>NaN</td>\n",
       "      <td>NaN</td>\n",
       "      <td>NaN</td>\n",
       "      <td>NaN</td>\n",
       "      <td>6.140205e+05</td>\n",
       "      <td>NaN</td>\n",
       "      <td>NaN</td>\n",
       "    </tr>\n",
       "    <tr>\n",
       "      <th>min</th>\n",
       "      <td>2014.000000</td>\n",
       "      <td>NaN</td>\n",
       "      <td>NaN</td>\n",
       "      <td>NaN</td>\n",
       "      <td>NaN</td>\n",
       "      <td>NaN</td>\n",
       "      <td>NaN</td>\n",
       "      <td>2.381948e+05</td>\n",
       "      <td>NaN</td>\n",
       "      <td>NaN</td>\n",
       "    </tr>\n",
       "    <tr>\n",
       "      <th>25%</th>\n",
       "      <td>2014.000000</td>\n",
       "      <td>NaN</td>\n",
       "      <td>NaN</td>\n",
       "      <td>NaN</td>\n",
       "      <td>NaN</td>\n",
       "      <td>NaN</td>\n",
       "      <td>NaN</td>\n",
       "      <td>2.717366e+05</td>\n",
       "      <td>NaN</td>\n",
       "      <td>NaN</td>\n",
       "    </tr>\n",
       "    <tr>\n",
       "      <th>50%</th>\n",
       "      <td>2014.000000</td>\n",
       "      <td>NaN</td>\n",
       "      <td>NaN</td>\n",
       "      <td>NaN</td>\n",
       "      <td>NaN</td>\n",
       "      <td>NaN</td>\n",
       "      <td>NaN</td>\n",
       "      <td>3.337836e+05</td>\n",
       "      <td>NaN</td>\n",
       "      <td>NaN</td>\n",
       "    </tr>\n",
       "    <tr>\n",
       "      <th>75%</th>\n",
       "      <td>2015.000000</td>\n",
       "      <td>NaN</td>\n",
       "      <td>NaN</td>\n",
       "      <td>NaN</td>\n",
       "      <td>NaN</td>\n",
       "      <td>NaN</td>\n",
       "      <td>NaN</td>\n",
       "      <td>4.867624e+05</td>\n",
       "      <td>NaN</td>\n",
       "      <td>NaN</td>\n",
       "    </tr>\n",
       "    <tr>\n",
       "      <th>max</th>\n",
       "      <td>2015.000000</td>\n",
       "      <td>NaN</td>\n",
       "      <td>NaN</td>\n",
       "      <td>NaN</td>\n",
       "      <td>NaN</td>\n",
       "      <td>NaN</td>\n",
       "      <td>NaN</td>\n",
       "      <td>7.636182e+06</td>\n",
       "      <td>NaN</td>\n",
       "      <td>NaN</td>\n",
       "    </tr>\n",
       "  </tbody>\n",
       "</table>\n",
       "</div>"
      ],
      "text/plain": [
       "               year                         recipient_id  recipient_name  \\\n",
       "count   1000.000000                                 1000            1000   \n",
       "unique          NaN                                  649             634   \n",
       "top             NaN  GB-LL15-CADWYN CLWYD CYFYNGEDIG LTD  National Trust   \n",
       "freq            NaN                                    5               8   \n",
       "mean    2014.422000                                  NaN             NaN   \n",
       "std        0.494126                                  NaN             NaN   \n",
       "min     2014.000000                                  NaN             NaN   \n",
       "25%     2014.000000                                  NaN             NaN   \n",
       "50%     2014.000000                                  NaN             NaN   \n",
       "75%     2015.000000                                  NaN             NaN   \n",
       "max     2015.000000                                  NaN             NaN   \n",
       "\n",
       "       recipient_postcode recipient_location agency  \\\n",
       "count                1000               1000   1000   \n",
       "unique                433                433      5   \n",
       "top                  SY23            LINCOLN    RPA   \n",
       "freq                   12                 18    671   \n",
       "mean                  NaN                NaN    NaN   \n",
       "std                   NaN                NaN    NaN   \n",
       "min                   NaN                NaN    NaN   \n",
       "25%                   NaN                NaN    NaN   \n",
       "50%                   NaN                NaN    NaN   \n",
       "75%                   NaN                NaN    NaN   \n",
       "max                   NaN                NaN    NaN   \n",
       "\n",
       "                            scheme        amount country currency  \n",
       "count                         1000  1.000000e+03    1000     1000  \n",
       "unique                          31           NaN       1        1  \n",
       "top     Single area payment scheme           NaN      GB      GBP  \n",
       "freq                           578           NaN    1000     1000  \n",
       "mean                           NaN  5.087952e+05     NaN      NaN  \n",
       "std                            NaN  6.140205e+05     NaN      NaN  \n",
       "min                            NaN  2.381948e+05     NaN      NaN  \n",
       "25%                            NaN  2.717366e+05     NaN      NaN  \n",
       "50%                            NaN  3.337836e+05     NaN      NaN  \n",
       "75%                            NaN  4.867624e+05     NaN      NaN  \n",
       "max                            NaN  7.636182e+06     NaN      NaN  "
      ]
     },
     "execution_count": 116,
     "metadata": {},
     "output_type": "execute_result"
    }
   ],
   "source": [
    "df.describe(include='all')"
   ]
  },
  {
   "cell_type": "markdown",
   "metadata": {},
   "source": [
    "Let's say we'd like to know how much money has been spent on these subsidies. We can use `sum()`"
   ]
  },
  {
   "cell_type": "code",
   "execution_count": 117,
   "metadata": {
    "collapsed": false
   },
   "outputs": [
    {
     "data": {
      "text/plain": [
       "508795166.64000005"
      ]
     },
     "execution_count": 117,
     "metadata": {},
     "output_type": "execute_result"
    }
   ],
   "source": [
    "df['amount'].sum()"
   ]
  },
  {
   "cell_type": "markdown",
   "metadata": {},
   "source": [
    "Or how many funds have been distributed per scheme"
   ]
  },
  {
   "cell_type": "code",
   "execution_count": 118,
   "metadata": {
    "collapsed": false
   },
   "outputs": [
    {
     "data": {
      "text/plain": [
       "Single area payment scheme                                                              578\n",
       "Implementing local development strategies. Quality of life/diversification               65\n",
       "Agri-environment payments                                                                61\n",
       "Adding value to agricultural and forestry products                                       49\n",
       "Aid in fruit and vegetables sector                                                       36\n",
       "Investment in forest area development and improvement of the viability of forests        28\n",
       "Investments in physical assets                                                           21\n",
       "Non-productive investments                                                               18\n",
       "Vocational training and information actions                                              16\n",
       "First afforestation of agricultural land                                                 16\n",
       "Agri-environment-climate                                                                 15\n",
       "Running the local action group, acquiring skills and animating the territory             13\n",
       "Technical Assistance                                                                     12\n",
       "Basic services for the economy and rural population                                      11\n",
       "Encouragement of tourism activities                                                       9\n",
       "Modernisation of agricultural holdings                                                    8\n",
       "Development of new products, processes and technologies                                   8\n",
       "Business creation and development                                                         7\n",
       "Promotion measures                                                                        6\n",
       "Basic services and village renewal in rural areas                                         4\n",
       "Implementing local development strategies. Competitiveness                                3\n",
       "First afforestation of non-agricultural land                                              3\n",
       "Infrastructure related to the development and adaptation of agriculture and forestry      3\n",
       "Diversification into non-agricultural activities                                          2\n",
       "School milk scheme                                                                        2\n",
       "Skills acquisition, animation and implementation of local development strategies          1\n",
       "Conservation and upgrading of the rural heritage                                          1\n",
       "Village renewal and development                                                           1\n",
       "Knowledge transfer and information actions                                                1\n",
       "Technical assist                                                                          1\n",
       "Cooperation                                                                               1\n",
       "Name: scheme, dtype: int64"
      ]
     },
     "execution_count": 118,
     "metadata": {},
     "output_type": "execute_result"
    }
   ],
   "source": [
    "df['scheme'].value_counts()"
   ]
  },
  {
   "cell_type": "markdown",
   "metadata": {},
   "source": [
    "What if we want to look which 10 recipients got the most subsidies in 2015?"
   ]
  },
  {
   "cell_type": "code",
   "execution_count": 119,
   "metadata": {
    "collapsed": false
   },
   "outputs": [
    {
     "data": {
      "text/html": [
       "<div>\n",
       "<table border=\"1\" class=\"dataframe\">\n",
       "  <thead>\n",
       "    <tr style=\"text-align: right;\">\n",
       "      <th>year</th>\n",
       "      <th>2014</th>\n",
       "      <th>2015</th>\n",
       "    </tr>\n",
       "    <tr>\n",
       "      <th>recipient_name</th>\n",
       "      <th></th>\n",
       "      <th></th>\n",
       "    </tr>\n",
       "  </thead>\n",
       "  <tbody>\n",
       "    <tr>\n",
       "      <th>R F STRATTON &amp; CO</th>\n",
       "      <td>264098.61</td>\n",
       "      <td>239206.28</td>\n",
       "    </tr>\n",
       "    <tr>\n",
       "      <th>Dennington Hall Farms</th>\n",
       "      <td>NaN</td>\n",
       "      <td>239995.09</td>\n",
       "    </tr>\n",
       "    <tr>\n",
       "      <th>Mansionhouse Farm</th>\n",
       "      <td>NaN</td>\n",
       "      <td>240040.05</td>\n",
       "    </tr>\n",
       "    <tr>\n",
       "      <th>HARROWDEN FARMS LTD</th>\n",
       "      <td>252661.12</td>\n",
       "      <td>240045.86</td>\n",
       "    </tr>\n",
       "    <tr>\n",
       "      <th>Glenapp Estate Company Ltd</th>\n",
       "      <td>284377.41</td>\n",
       "      <td>240102.57</td>\n",
       "    </tr>\n",
       "    <tr>\n",
       "      <th>CROSSFELL COMMONERS ASSOCIATION</th>\n",
       "      <td>323866.09</td>\n",
       "      <td>240443.40</td>\n",
       "    </tr>\n",
       "    <tr>\n",
       "      <th>CONWY COUNTY BOROUGH COUNCIL</th>\n",
       "      <td>663372.47</td>\n",
       "      <td>240463.51</td>\n",
       "    </tr>\n",
       "    <tr>\n",
       "      <th>The President Estate Farming Partnership</th>\n",
       "      <td>257909.19</td>\n",
       "      <td>240634.71</td>\n",
       "    </tr>\n",
       "    <tr>\n",
       "      <th>SCOTT &amp; SCOTT</th>\n",
       "      <td>266807.59</td>\n",
       "      <td>240977.06</td>\n",
       "    </tr>\n",
       "    <tr>\n",
       "      <th>H C Bourn (Farming) Limited</th>\n",
       "      <td>267851.47</td>\n",
       "      <td>241030.74</td>\n",
       "    </tr>\n",
       "  </tbody>\n",
       "</table>\n",
       "</div>"
      ],
      "text/plain": [
       "year                                           2014       2015\n",
       "recipient_name                                                \n",
       "R F STRATTON & CO                         264098.61  239206.28\n",
       "Dennington Hall Farms                           NaN  239995.09\n",
       "Mansionhouse Farm                               NaN  240040.05\n",
       "HARROWDEN FARMS LTD                       252661.12  240045.86\n",
       "Glenapp Estate Company Ltd                284377.41  240102.57\n",
       "CROSSFELL COMMONERS ASSOCIATION           323866.09  240443.40\n",
       "CONWY COUNTY BOROUGH COUNCIL              663372.47  240463.51\n",
       "The President Estate Farming Partnership  257909.19  240634.71\n",
       "SCOTT & SCOTT                             266807.59  240977.06\n",
       "H C Bourn (Farming) Limited               267851.47  241030.74"
      ]
     },
     "execution_count": 119,
     "metadata": {},
     "output_type": "execute_result"
    }
   ],
   "source": [
    "df.groupby(['recipient_name', 'year'])['amount'].sum().unstack().sort_values(2015).head(10)"
   ]
  },
  {
   "cell_type": "markdown",
   "metadata": {},
   "source": [
    "or even easier, we make a pivot table!"
   ]
  },
  {
   "cell_type": "code",
   "execution_count": 120,
   "metadata": {
    "collapsed": false
   },
   "outputs": [
    {
     "data": {
      "text/html": [
       "<div>\n",
       "<table border=\"1\" class=\"dataframe\">\n",
       "  <thead>\n",
       "    <tr style=\"text-align: right;\">\n",
       "      <th>year</th>\n",
       "      <th>2014</th>\n",
       "      <th>2015</th>\n",
       "    </tr>\n",
       "    <tr>\n",
       "      <th>scheme</th>\n",
       "      <th></th>\n",
       "      <th></th>\n",
       "    </tr>\n",
       "  </thead>\n",
       "  <tbody>\n",
       "    <tr>\n",
       "      <th>Village renewal and development</th>\n",
       "      <td>NaN</td>\n",
       "      <td>255008.29</td>\n",
       "    </tr>\n",
       "    <tr>\n",
       "      <th>Knowledge transfer and information actions</th>\n",
       "      <td>NaN</td>\n",
       "      <td>272542.64</td>\n",
       "    </tr>\n",
       "    <tr>\n",
       "      <th>Encouragement of tourism activities</th>\n",
       "      <td>4575173.62</td>\n",
       "      <td>365361.08</td>\n",
       "    </tr>\n",
       "    <tr>\n",
       "      <th>Cooperation</th>\n",
       "      <td>NaN</td>\n",
       "      <td>409129.00</td>\n",
       "    </tr>\n",
       "    <tr>\n",
       "      <th>Infrastructure related to the development and adaptation of agriculture and forestry</th>\n",
       "      <td>899120.02</td>\n",
       "      <td>742648.37</td>\n",
       "    </tr>\n",
       "    <tr>\n",
       "      <th>School milk scheme</th>\n",
       "      <td>700940.37</td>\n",
       "      <td>766077.69</td>\n",
       "    </tr>\n",
       "    <tr>\n",
       "      <th>Modernisation of agricultural holdings</th>\n",
       "      <td>1752616.82</td>\n",
       "      <td>845697.21</td>\n",
       "    </tr>\n",
       "    <tr>\n",
       "      <th>Basic services for the economy and rural population</th>\n",
       "      <td>2685883.84</td>\n",
       "      <td>992839.53</td>\n",
       "    </tr>\n",
       "    <tr>\n",
       "      <th>Business creation and development</th>\n",
       "      <td>999134.60</td>\n",
       "      <td>1346564.69</td>\n",
       "    </tr>\n",
       "    <tr>\n",
       "      <th>Running the local action group, acquiring skills and animating the territory</th>\n",
       "      <td>2665433.45</td>\n",
       "      <td>1406200.06</td>\n",
       "    </tr>\n",
       "  </tbody>\n",
       "</table>\n",
       "</div>"
      ],
      "text/plain": [
       "year                                                      2014        2015\n",
       "scheme                                                                    \n",
       "Village renewal and development                            NaN   255008.29\n",
       "Knowledge transfer and information actions                 NaN   272542.64\n",
       "Encouragement of tourism activities                 4575173.62   365361.08\n",
       "Cooperation                                                NaN   409129.00\n",
       "Infrastructure related to the development and a...   899120.02   742648.37\n",
       "School milk scheme                                   700940.37   766077.69\n",
       "Modernisation of agricultural holdings              1752616.82   845697.21\n",
       "Basic services for the economy and rural popula...  2685883.84   992839.53\n",
       "Business creation and development                    999134.60  1346564.69\n",
       "Running the local action group, acquiring skill...  2665433.45  1406200.06"
      ]
     },
     "execution_count": 120,
     "metadata": {},
     "output_type": "execute_result"
    }
   ],
   "source": [
    "df.pivot_table(values=\"amount\", index=\"scheme\", columns=\"year\", aggfunc='sum').sort_values(2015).head(10)"
   ]
  },
  {
   "cell_type": "markdown",
   "metadata": {},
   "source": [
    "Note that you have to assign everything you do to a variable if you want to save it"
   ]
  },
  {
   "cell_type": "code",
   "execution_count": 121,
   "metadata": {
    "collapsed": true
   },
   "outputs": [],
   "source": [
    "schemes = df.pivot_table(values=\"amount\", index=\"scheme\", columns=\"year\", aggfunc='sum').sort_values(2015).head(10)"
   ]
  },
  {
   "cell_type": "markdown",
   "metadata": {},
   "source": [
    "And also visualize!"
   ]
  },
  {
   "cell_type": "code",
   "execution_count": 122,
   "metadata": {
    "collapsed": false
   },
   "outputs": [
    {
     "data": {
      "text/plain": [
       "<matplotlib.axes._subplots.AxesSubplot at 0x7f1b2b719210>"
      ]
     },
     "execution_count": 122,
     "metadata": {},
     "output_type": "execute_result"
    },
    {
     "data": {
      "image/png": "[encoded data removed]",
      "text/plain": [
       "<matplotlib.figure.Figure at 0x7f1b2b703810>"
      ]
     },
     "metadata": {},
     "output_type": "display_data"
    }
   ],
   "source": [
    "schemes.plot(kind=\"bar\")"
   ]
  }
 ],
 "metadata": {
  "kernelspec": {
   "display_name": "Python 2",
   "language": "python",
   "name": "python2"
  },
  "language_info": {
   "codemirror_mode": {
    "name": "ipython",
    "version": 2
   },
   "file_extension": ".py",
   "mimetype": "text/x-python",
   "name": "python",
   "nbconvert_exporter": "python",
   "pygments_lexer": "ipython2",
   "version": "2.7.8"
  }
 },
 "nbformat": 4,
 "nbformat_minor": 0
}
