{
 "cells": [
  {
   "cell_type": "markdown",
   "metadata": {},
   "source": [
    "# Pandas Workshop at DataHarvest 2016\n",
    "\n",
    "This is how you import pandas. It's customary to import it as \"pd\"."
   ]
  },
  {
   "cell_type": "code",
   "execution_count": 1,
   "metadata": {
    "collapsed": true
   },
   "outputs": [],
   "source": [
    "import pandas as pd"
   ]
  },
  {
   "cell_type": "markdown",
   "metadata": {},
   "source": [
    "This is how you can load a CSV file. There are also many other ways to load in data."
   ]
  },
  {
   "cell_type": "code",
   "execution_count": 2,
   "metadata": {
    "collapsed": false
   },
   "outputs": [],
   "source": [
    "df = pd.read_csv('gb_201415.csv')"
   ]
  },
  {
   "cell_type": "markdown",
   "metadata": {},
   "source": [
    "`df` stands for DataFrame and is basically a table with rows and columns.\n",
    "\n",
    "`df.head()` shows the first 5 rows, you can also show more, e.g. `df.head(20)`"
   ]
  },
  {
   "cell_type": "code",
   "execution_count": 3,
   "metadata": {
    "collapsed": false
   },
   "outputs": [
    {
     "data": {
      "text/html": [
       "<div>\n",
       "<table border=\"1\" class=\"dataframe\">\n",
       "  <thead>\n",
       "    <tr style=\"text-align: right;\">\n",
       "      <th></th>\n",
       "      <th>year</th>\n",
       "      <th>recipient_id</th>\n",
       "      <th>recipient_name</th>\n",
       "      <th>recipient_postcode</th>\n",
       "      <th>recipient_location</th>\n",
       "      <th>agency</th>\n",
       "      <th>scheme</th>\n",
       "      <th>amount</th>\n",
       "      <th>country</th>\n",
       "      <th>currency</th>\n",
       "    </tr>\n",
       "  </thead>\n",
       "  <tbody>\n",
       "    <tr>\n",
       "      <th>0</th>\n",
       "      <td>2015</td>\n",
       "      <td>GB-SY23-WELSH ASSEMBLY GOVERNMENT</td>\n",
       "      <td>WELSH ASSEMBLY GOVERNMENT</td>\n",
       "      <td>SY23</td>\n",
       "      <td>ABERYSTWYTH</td>\n",
       "      <td>WG</td>\n",
       "      <td>Technical Assistance</td>\n",
       "      <td>7,636,181.83</td>\n",
       "      <td>GB</td>\n",
       "      <td>GBP</td>\n",
       "    </tr>\n",
       "    <tr>\n",
       "      <th>1</th>\n",
       "      <td>2015</td>\n",
       "      <td>GB-WR5-Natural England</td>\n",
       "      <td>Natural England</td>\n",
       "      <td>WR5</td>\n",
       "      <td>WORCESTER</td>\n",
       "      <td>RPA</td>\n",
       "      <td>Technical Assistance</td>\n",
       "      <td>7,373,572.0</td>\n",
       "      <td>GB</td>\n",
       "      <td>GBP</td>\n",
       "    </tr>\n",
       "    <tr>\n",
       "      <th>2</th>\n",
       "      <td>2014</td>\n",
       "      <td>GB-SY23-WELSH ASSEMBLY GOVERNMENT</td>\n",
       "      <td>WELSH ASSEMBLY GOVERNMENT</td>\n",
       "      <td>SY23</td>\n",
       "      <td>ABERYSTWYTH</td>\n",
       "      <td>WG</td>\n",
       "      <td>Technical Assistance</td>\n",
       "      <td>6,128,222.74</td>\n",
       "      <td>GB</td>\n",
       "      <td>GBP</td>\n",
       "    </tr>\n",
       "    <tr>\n",
       "      <th>3</th>\n",
       "      <td>2015</td>\n",
       "      <td>GB-CB7-G'S GROWERS LTD</td>\n",
       "      <td>G'S GROWERS LTD</td>\n",
       "      <td>CB7</td>\n",
       "      <td>ELY</td>\n",
       "      <td>RPA</td>\n",
       "      <td>Aid in fruit and vegetables sector</td>\n",
       "      <td>5,807,429.64</td>\n",
       "      <td>GB</td>\n",
       "      <td>GBP</td>\n",
       "    </tr>\n",
       "    <tr>\n",
       "      <th>4</th>\n",
       "      <td>2014</td>\n",
       "      <td>GB-PL30-National Trust</td>\n",
       "      <td>National Trust</td>\n",
       "      <td>PL30</td>\n",
       "      <td>Bodmin</td>\n",
       "      <td>RPA</td>\n",
       "      <td>Agri-environment payments</td>\n",
       "      <td>4,646,028.86</td>\n",
       "      <td>GB</td>\n",
       "      <td>GBP</td>\n",
       "    </tr>\n",
       "  </tbody>\n",
       "</table>\n",
       "</div>"
      ],
      "text/plain": [
       "   year                       recipient_id             recipient_name  \\\n",
       "0  2015  GB-SY23-WELSH ASSEMBLY GOVERNMENT  WELSH ASSEMBLY GOVERNMENT   \n",
       "1  2015             GB-WR5-Natural England            Natural England   \n",
       "2  2014  GB-SY23-WELSH ASSEMBLY GOVERNMENT  WELSH ASSEMBLY GOVERNMENT   \n",
       "3  2015             GB-CB7-G'S GROWERS LTD            G'S GROWERS LTD   \n",
       "4  2014             GB-PL30-National Trust             National Trust   \n",
       "\n",
       "  recipient_postcode recipient_location agency  \\\n",
       "0               SY23        ABERYSTWYTH     WG   \n",
       "1                WR5          WORCESTER    RPA   \n",
       "2               SY23        ABERYSTWYTH     WG   \n",
       "3                CB7                ELY    RPA   \n",
       "4               PL30             Bodmin    RPA   \n",
       "\n",
       "                               scheme        amount country currency  \n",
       "0                Technical Assistance  7,636,181.83      GB      GBP  \n",
       "1                Technical Assistance   7,373,572.0      GB      GBP  \n",
       "2                Technical Assistance  6,128,222.74      GB      GBP  \n",
       "3  Aid in fruit and vegetables sector  5,807,429.64      GB      GBP  \n",
       "4           Agri-environment payments  4,646,028.86      GB      GBP  "
      ]
     },
     "execution_count": 3,
     "metadata": {},
     "output_type": "execute_result"
    }
   ],
   "source": [
    "df.head()"
   ]
  },
  {
   "cell_type": "markdown",
   "metadata": {},
   "source": [
    "Let's look at the data types of the columns."
   ]
  },
  {
   "cell_type": "code",
   "execution_count": 4,
   "metadata": {
    "collapsed": false
   },
   "outputs": [
    {
     "data": {
      "text/plain": [
       "year                   int64\n",
       "recipient_id          object\n",
       "recipient_name        object\n",
       "recipient_postcode    object\n",
       "recipient_location    object\n",
       "agency                object\n",
       "scheme                object\n",
       "amount                object\n",
       "country               object\n",
       "currency              object\n",
       "dtype: object"
      ]
     },
     "execution_count": 4,
     "metadata": {},
     "output_type": "execute_result"
    }
   ],
   "source": [
    "df.dtypes"
   ]
  },
  {
   "cell_type": "markdown",
   "metadata": {},
   "source": [
    "Looks like the amount is not detected correctly due to thousand separators. Let's clean it!"
   ]
  },
  {
   "cell_type": "code",
   "execution_count": 5,
   "metadata": {
    "collapsed": false
   },
   "outputs": [
    {
     "data": {
      "text/html": [
       "<div>\n",
       "<table border=\"1\" class=\"dataframe\">\n",
       "  <thead>\n",
       "    <tr style=\"text-align: right;\">\n",
       "      <th></th>\n",
       "      <th>year</th>\n",
       "      <th>recipient_id</th>\n",
       "      <th>recipient_name</th>\n",
       "      <th>recipient_postcode</th>\n",
       "      <th>recipient_location</th>\n",
       "      <th>agency</th>\n",
       "      <th>scheme</th>\n",
       "      <th>amount</th>\n",
       "      <th>country</th>\n",
       "      <th>currency</th>\n",
       "      <th>amount_clean</th>\n",
       "    </tr>\n",
       "  </thead>\n",
       "  <tbody>\n",
       "    <tr>\n",
       "      <th>0</th>\n",
       "      <td>2015</td>\n",
       "      <td>GB-SY23-WELSH ASSEMBLY GOVERNMENT</td>\n",
       "      <td>WELSH ASSEMBLY GOVERNMENT</td>\n",
       "      <td>SY23</td>\n",
       "      <td>ABERYSTWYTH</td>\n",
       "      <td>WG</td>\n",
       "      <td>Technical Assistance</td>\n",
       "      <td>7,636,181.83</td>\n",
       "      <td>GB</td>\n",
       "      <td>GBP</td>\n",
       "      <td>7636181.83</td>\n",
       "    </tr>\n",
       "    <tr>\n",
       "      <th>1</th>\n",
       "      <td>2015</td>\n",
       "      <td>GB-WR5-Natural England</td>\n",
       "      <td>Natural England</td>\n",
       "      <td>WR5</td>\n",
       "      <td>WORCESTER</td>\n",
       "      <td>RPA</td>\n",
       "      <td>Technical Assistance</td>\n",
       "      <td>7,373,572.0</td>\n",
       "      <td>GB</td>\n",
       "      <td>GBP</td>\n",
       "      <td>7373572.0</td>\n",
       "    </tr>\n",
       "    <tr>\n",
       "      <th>2</th>\n",
       "      <td>2014</td>\n",
       "      <td>GB-SY23-WELSH ASSEMBLY GOVERNMENT</td>\n",
       "      <td>WELSH ASSEMBLY GOVERNMENT</td>\n",
       "      <td>SY23</td>\n",
       "      <td>ABERYSTWYTH</td>\n",
       "      <td>WG</td>\n",
       "      <td>Technical Assistance</td>\n",
       "      <td>6,128,222.74</td>\n",
       "      <td>GB</td>\n",
       "      <td>GBP</td>\n",
       "      <td>6128222.74</td>\n",
       "    </tr>\n",
       "    <tr>\n",
       "      <th>3</th>\n",
       "      <td>2015</td>\n",
       "      <td>GB-CB7-G'S GROWERS LTD</td>\n",
       "      <td>G'S GROWERS LTD</td>\n",
       "      <td>CB7</td>\n",
       "      <td>ELY</td>\n",
       "      <td>RPA</td>\n",
       "      <td>Aid in fruit and vegetables sector</td>\n",
       "      <td>5,807,429.64</td>\n",
       "      <td>GB</td>\n",
       "      <td>GBP</td>\n",
       "      <td>5807429.64</td>\n",
       "    </tr>\n",
       "    <tr>\n",
       "      <th>4</th>\n",
       "      <td>2014</td>\n",
       "      <td>GB-PL30-National Trust</td>\n",
       "      <td>National Trust</td>\n",
       "      <td>PL30</td>\n",
       "      <td>Bodmin</td>\n",
       "      <td>RPA</td>\n",
       "      <td>Agri-environment payments</td>\n",
       "      <td>4,646,028.86</td>\n",
       "      <td>GB</td>\n",
       "      <td>GBP</td>\n",
       "      <td>4646028.86</td>\n",
       "    </tr>\n",
       "  </tbody>\n",
       "</table>\n",
       "</div>"
      ],
      "text/plain": [
       "   year                       recipient_id             recipient_name  \\\n",
       "0  2015  GB-SY23-WELSH ASSEMBLY GOVERNMENT  WELSH ASSEMBLY GOVERNMENT   \n",
       "1  2015             GB-WR5-Natural England            Natural England   \n",
       "2  2014  GB-SY23-WELSH ASSEMBLY GOVERNMENT  WELSH ASSEMBLY GOVERNMENT   \n",
       "3  2015             GB-CB7-G'S GROWERS LTD            G'S GROWERS LTD   \n",
       "4  2014             GB-PL30-National Trust             National Trust   \n",
       "\n",
       "  recipient_postcode recipient_location agency  \\\n",
       "0               SY23        ABERYSTWYTH     WG   \n",
       "1                WR5          WORCESTER    RPA   \n",
       "2               SY23        ABERYSTWYTH     WG   \n",
       "3                CB7                ELY    RPA   \n",
       "4               PL30             Bodmin    RPA   \n",
       "\n",
       "                               scheme        amount country currency  \\\n",
       "0                Technical Assistance  7,636,181.83      GB      GBP   \n",
       "1                Technical Assistance   7,373,572.0      GB      GBP   \n",
       "2                Technical Assistance  6,128,222.74      GB      GBP   \n",
       "3  Aid in fruit and vegetables sector  5,807,429.64      GB      GBP   \n",
       "4           Agri-environment payments  4,646,028.86      GB      GBP   \n",
       "\n",
       "  amount_clean  \n",
       "0   7636181.83  \n",
       "1    7373572.0  \n",
       "2   6128222.74  \n",
       "3   5807429.64  \n",
       "4   4646028.86  "
      ]
     },
     "execution_count": 5,
     "metadata": {},
     "output_type": "execute_result"
    }
   ],
   "source": [
    "df['amount_clean'] = df['amount'].str.replace(',', '')\n",
    "df.head()"
   ]
  },
  {
   "cell_type": "code",
   "execution_count": 6,
   "metadata": {
    "collapsed": false
   },
   "outputs": [
    {
     "data": {
      "text/plain": [
       "year                    int64\n",
       "recipient_id           object\n",
       "recipient_name         object\n",
       "recipient_postcode     object\n",
       "recipient_location     object\n",
       "agency                 object\n",
       "scheme                 object\n",
       "amount                 object\n",
       "country                object\n",
       "currency               object\n",
       "amount_clean          float64\n",
       "dtype: object"
      ]
     },
     "execution_count": 6,
     "metadata": {},
     "output_type": "execute_result"
    }
   ],
   "source": [
    "df['amount_clean'] = pd.to_numeric(df['amount_clean'])\n",
    "df.dtypes"
   ]
  },
  {
   "cell_type": "code",
   "execution_count": 7,
   "metadata": {
    "collapsed": false
   },
   "outputs": [
    {
     "data": {
      "text/html": [
       "<div>\n",
       "<table border=\"1\" class=\"dataframe\">\n",
       "  <thead>\n",
       "    <tr style=\"text-align: right;\">\n",
       "      <th></th>\n",
       "      <th>year</th>\n",
       "      <th>recipient_id</th>\n",
       "      <th>recipient_name</th>\n",
       "      <th>recipient_postcode</th>\n",
       "      <th>recipient_location</th>\n",
       "      <th>agency</th>\n",
       "      <th>scheme</th>\n",
       "      <th>country</th>\n",
       "      <th>currency</th>\n",
       "      <th>amount_clean</th>\n",
       "    </tr>\n",
       "  </thead>\n",
       "  <tbody>\n",
       "    <tr>\n",
       "      <th>0</th>\n",
       "      <td>2015</td>\n",
       "      <td>GB-SY23-WELSH ASSEMBLY GOVERNMENT</td>\n",
       "      <td>WELSH ASSEMBLY GOVERNMENT</td>\n",
       "      <td>SY23</td>\n",
       "      <td>ABERYSTWYTH</td>\n",
       "      <td>WG</td>\n",
       "      <td>Technical Assistance</td>\n",
       "      <td>GB</td>\n",
       "      <td>GBP</td>\n",
       "      <td>7636181.83</td>\n",
       "    </tr>\n",
       "    <tr>\n",
       "      <th>1</th>\n",
       "      <td>2015</td>\n",
       "      <td>GB-WR5-Natural England</td>\n",
       "      <td>Natural England</td>\n",
       "      <td>WR5</td>\n",
       "      <td>WORCESTER</td>\n",
       "      <td>RPA</td>\n",
       "      <td>Technical Assistance</td>\n",
       "      <td>GB</td>\n",
       "      <td>GBP</td>\n",
       "      <td>7373572.00</td>\n",
       "    </tr>\n",
       "    <tr>\n",
       "      <th>2</th>\n",
       "      <td>2014</td>\n",
       "      <td>GB-SY23-WELSH ASSEMBLY GOVERNMENT</td>\n",
       "      <td>WELSH ASSEMBLY GOVERNMENT</td>\n",
       "      <td>SY23</td>\n",
       "      <td>ABERYSTWYTH</td>\n",
       "      <td>WG</td>\n",
       "      <td>Technical Assistance</td>\n",
       "      <td>GB</td>\n",
       "      <td>GBP</td>\n",
       "      <td>6128222.74</td>\n",
       "    </tr>\n",
       "    <tr>\n",
       "      <th>3</th>\n",
       "      <td>2015</td>\n",
       "      <td>GB-CB7-G'S GROWERS LTD</td>\n",
       "      <td>G'S GROWERS LTD</td>\n",
       "      <td>CB7</td>\n",
       "      <td>ELY</td>\n",
       "      <td>RPA</td>\n",
       "      <td>Aid in fruit and vegetables sector</td>\n",
       "      <td>GB</td>\n",
       "      <td>GBP</td>\n",
       "      <td>5807429.64</td>\n",
       "    </tr>\n",
       "    <tr>\n",
       "      <th>4</th>\n",
       "      <td>2014</td>\n",
       "      <td>GB-PL30-National Trust</td>\n",
       "      <td>National Trust</td>\n",
       "      <td>PL30</td>\n",
       "      <td>Bodmin</td>\n",
       "      <td>RPA</td>\n",
       "      <td>Agri-environment payments</td>\n",
       "      <td>GB</td>\n",
       "      <td>GBP</td>\n",
       "      <td>4646028.86</td>\n",
       "    </tr>\n",
       "  </tbody>\n",
       "</table>\n",
       "</div>"
      ],
      "text/plain": [
       "   year                       recipient_id             recipient_name  \\\n",
       "0  2015  GB-SY23-WELSH ASSEMBLY GOVERNMENT  WELSH ASSEMBLY GOVERNMENT   \n",
       "1  2015             GB-WR5-Natural England            Natural England   \n",
       "2  2014  GB-SY23-WELSH ASSEMBLY GOVERNMENT  WELSH ASSEMBLY GOVERNMENT   \n",
       "3  2015             GB-CB7-G'S GROWERS LTD            G'S GROWERS LTD   \n",
       "4  2014             GB-PL30-National Trust             National Trust   \n",
       "\n",
       "  recipient_postcode recipient_location agency  \\\n",
       "0               SY23        ABERYSTWYTH     WG   \n",
       "1                WR5          WORCESTER    RPA   \n",
       "2               SY23        ABERYSTWYTH     WG   \n",
       "3                CB7                ELY    RPA   \n",
       "4               PL30             Bodmin    RPA   \n",
       "\n",
       "                               scheme country currency  amount_clean  \n",
       "0                Technical Assistance      GB      GBP    7636181.83  \n",
       "1                Technical Assistance      GB      GBP    7373572.00  \n",
       "2                Technical Assistance      GB      GBP    6128222.74  \n",
       "3  Aid in fruit and vegetables sector      GB      GBP    5807429.64  \n",
       "4           Agri-environment payments      GB      GBP    4646028.86  "
      ]
     },
     "execution_count": 7,
     "metadata": {},
     "output_type": "execute_result"
    }
   ],
   "source": [
    "df = df.drop('amount', 1)\n",
    "df.head()"
   ]
  },
  {
   "cell_type": "code",
   "execution_count": 10,
   "metadata": {
    "collapsed": false
   },
   "outputs": [
    {
     "data": {
      "text/html": [
       "<div>\n",
       "<table border=\"1\" class=\"dataframe\">\n",
       "  <thead>\n",
       "    <tr style=\"text-align: right;\">\n",
       "      <th></th>\n",
       "      <th>year</th>\n",
       "      <th>recipient_id</th>\n",
       "      <th>recipient_name</th>\n",
       "      <th>recipient_postcode</th>\n",
       "      <th>recipient_location</th>\n",
       "      <th>agency</th>\n",
       "      <th>scheme</th>\n",
       "      <th>country</th>\n",
       "      <th>currency</th>\n",
       "      <th>amount</th>\n",
       "    </tr>\n",
       "  </thead>\n",
       "  <tbody>\n",
       "    <tr>\n",
       "      <th>0</th>\n",
       "      <td>2015</td>\n",
       "      <td>GB-SY23-WELSH ASSEMBLY GOVERNMENT</td>\n",
       "      <td>WELSH ASSEMBLY GOVERNMENT</td>\n",
       "      <td>SY23</td>\n",
       "      <td>ABERYSTWYTH</td>\n",
       "      <td>WG</td>\n",
       "      <td>Technical Assistance</td>\n",
       "      <td>GB</td>\n",
       "      <td>GBP</td>\n",
       "      <td>7636181.83</td>\n",
       "    </tr>\n",
       "    <tr>\n",
       "      <th>1</th>\n",
       "      <td>2015</td>\n",
       "      <td>GB-WR5-Natural England</td>\n",
       "      <td>Natural England</td>\n",
       "      <td>WR5</td>\n",
       "      <td>WORCESTER</td>\n",
       "      <td>RPA</td>\n",
       "      <td>Technical Assistance</td>\n",
       "      <td>GB</td>\n",
       "      <td>GBP</td>\n",
       "      <td>7373572.00</td>\n",
       "    </tr>\n",
       "    <tr>\n",
       "      <th>2</th>\n",
       "      <td>2014</td>\n",
       "      <td>GB-SY23-WELSH ASSEMBLY GOVERNMENT</td>\n",
       "      <td>WELSH ASSEMBLY GOVERNMENT</td>\n",
       "      <td>SY23</td>\n",
       "      <td>ABERYSTWYTH</td>\n",
       "      <td>WG</td>\n",
       "      <td>Technical Assistance</td>\n",
       "      <td>GB</td>\n",
       "      <td>GBP</td>\n",
       "      <td>6128222.74</td>\n",
       "    </tr>\n",
       "    <tr>\n",
       "      <th>3</th>\n",
       "      <td>2015</td>\n",
       "      <td>GB-CB7-G'S GROWERS LTD</td>\n",
       "      <td>G'S GROWERS LTD</td>\n",
       "      <td>CB7</td>\n",
       "      <td>ELY</td>\n",
       "      <td>RPA</td>\n",
       "      <td>Aid in fruit and vegetables sector</td>\n",
       "      <td>GB</td>\n",
       "      <td>GBP</td>\n",
       "      <td>5807429.64</td>\n",
       "    </tr>\n",
       "    <tr>\n",
       "      <th>4</th>\n",
       "      <td>2014</td>\n",
       "      <td>GB-PL30-National Trust</td>\n",
       "      <td>National Trust</td>\n",
       "      <td>PL30</td>\n",
       "      <td>Bodmin</td>\n",
       "      <td>RPA</td>\n",
       "      <td>Agri-environment payments</td>\n",
       "      <td>GB</td>\n",
       "      <td>GBP</td>\n",
       "      <td>4646028.86</td>\n",
       "    </tr>\n",
       "  </tbody>\n",
       "</table>\n",
       "</div>"
      ],
      "text/plain": [
       "   year                       recipient_id             recipient_name  \\\n",
       "0  2015  GB-SY23-WELSH ASSEMBLY GOVERNMENT  WELSH ASSEMBLY GOVERNMENT   \n",
       "1  2015             GB-WR5-Natural England            Natural England   \n",
       "2  2014  GB-SY23-WELSH ASSEMBLY GOVERNMENT  WELSH ASSEMBLY GOVERNMENT   \n",
       "3  2015             GB-CB7-G'S GROWERS LTD            G'S GROWERS LTD   \n",
       "4  2014             GB-PL30-National Trust             National Trust   \n",
       "\n",
       "  recipient_postcode recipient_location agency  \\\n",
       "0               SY23        ABERYSTWYTH     WG   \n",
       "1                WR5          WORCESTER    RPA   \n",
       "2               SY23        ABERYSTWYTH     WG   \n",
       "3                CB7                ELY    RPA   \n",
       "4               PL30             Bodmin    RPA   \n",
       "\n",
       "                               scheme country currency      amount  \n",
       "0                Technical Assistance      GB      GBP  7636181.83  \n",
       "1                Technical Assistance      GB      GBP  7373572.00  \n",
       "2                Technical Assistance      GB      GBP  6128222.74  \n",
       "3  Aid in fruit and vegetables sector      GB      GBP  5807429.64  \n",
       "4           Agri-environment payments      GB      GBP  4646028.86  "
      ]
     },
     "execution_count": 10,
     "metadata": {},
     "output_type": "execute_result"
    }
   ],
   "source": [
    "df = df.rename(columns={'amount_clean': 'amount'})\n",
    "df.head()"
   ]
  },
  {
   "cell_type": "code",
   "execution_count": 11,
   "metadata": {
    "collapsed": false
   },
   "outputs": [
    {
     "data": {
      "text/plain": [
       "508795166.64000005"
      ]
     },
     "execution_count": 11,
     "metadata": {},
     "output_type": "execute_result"
    }
   ],
   "source": [
    "df['amount'].sum()"
   ]
  },
  {
   "cell_type": "code",
   "execution_count": 12,
   "metadata": {
    "collapsed": false
   },
   "outputs": [
    {
     "data": {
      "text/plain": [
       "Single area payment scheme                                                              578\n",
       "Implementing local development strategies. Quality of life/diversification               65\n",
       "Agri-environment payments                                                                61\n",
       "Adding value to agricultural and forestry products                                       49\n",
       "Aid in fruit and vegetables sector                                                       36\n",
       "Investment in forest area development and improvement of the viability of forests        28\n",
       "Investments in physical assets                                                           21\n",
       "Non-productive investments                                                               18\n",
       "Vocational training and information actions                                              16\n",
       "First afforestation of agricultural land                                                 16\n",
       "Agri-environment-climate                                                                 15\n",
       "Running the local action group, acquiring skills and animating the territory             13\n",
       "Technical Assistance                                                                     12\n",
       "Basic services for the economy and rural population                                      11\n",
       "Encouragement of tourism activities                                                       9\n",
       "Modernisation of agricultural holdings                                                    8\n",
       "Development of new products, processes and technologies                                   8\n",
       "Business creation and development                                                         7\n",
       "Promotion measures                                                                        6\n",
       "Basic services and village renewal in rural areas                                         4\n",
       "First afforestation of non-agricultural land                                              3\n",
       "Implementing local development strategies. Competitiveness                                3\n",
       "Infrastructure related to the development and adaptation of agriculture and forestry      3\n",
       "Diversification into non-agricultural activities                                          2\n",
       "School milk scheme                                                                        2\n",
       "Conservation and upgrading of the rural heritage                                          1\n",
       "Technical assist                                                                          1\n",
       "Skills acquisition, animation and implementation of local development strategies          1\n",
       "Village renewal and development                                                           1\n",
       "Cooperation                                                                               1\n",
       "Knowledge transfer and information actions                                                1\n",
       "Name: scheme, dtype: int64"
      ]
     },
     "execution_count": 12,
     "metadata": {},
     "output_type": "execute_result"
    }
   ],
   "source": [
    "df['scheme'].value_counts()"
   ]
  }
 ],
 "metadata": {
  "kernelspec": {
   "display_name": "Python 3",
   "language": "python",
   "name": "python3"
  },
  "language_info": {
   "codemirror_mode": {
    "name": "ipython",
    "version": 3
   },
   "file_extension": ".py",
   "mimetype": "text/x-python",
   "name": "python",
   "nbconvert_exporter": "python",
   "pygments_lexer": "ipython3",
   "version": "3.5.0"
  }
 },
 "nbformat": 4,
 "nbformat_minor": 0
}
